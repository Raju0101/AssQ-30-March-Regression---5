{
 "cells": [
  {
   "cell_type": "markdown",
   "id": "2b2566c4-28f7-4542-800f-15bf80938faf",
   "metadata": {},
   "source": [
    "# AssQ 30 March Regression - 5"
   ]
  },
  {
   "cell_type": "code",
   "execution_count": null,
   "id": "5b5b126d-1090-4f90-ac33-de65cca3c213",
   "metadata": {},
   "outputs": [],
   "source": [
    "Q1. What is Elastic Net Regression and how does it differ from other regression techniques?"
   ]
  },
  {
   "cell_type": "code",
   "execution_count": null,
   "id": "4b4dfcaf-a402-44b1-95c7-5f2c9597c145",
   "metadata": {},
   "outputs": [],
   "source": [
    "Elastic net linear regression uses the penalties from both the lasso and ridge techniques to \n",
    "regularize regression models. The technique combines both the lasso and ridge regression methods by \n",
    "learning from their shortcomings to improve the regularization of statistical models.\n",
    "\n",
    "Ridge uses L2 penalty term which limits the size of the coefficient vector.\n",
    "Lasso uses L1 penalty which imposes sparsity among the coefficients and thus, \n",
    "makes the fitted model more interpretable. Elasticnet is introduced as a compromise between these two techniques, \n",
    "and has a penalty which is a mix of L1 and L2 norms.\n",
    "\n",
    "The advantage of the elastic net is that it keeps the feature selection quality from the lasso penalty \n",
    "as well as the effectiveness of the ridge penalty.\n",
    "And it deals with highly correlated variables more effectively."
   ]
  },
  {
   "cell_type": "code",
   "execution_count": null,
   "id": "c9b138f0-5db5-4aa6-8b3f-76e9912cc033",
   "metadata": {},
   "outputs": [],
   "source": []
  },
  {
   "cell_type": "code",
   "execution_count": null,
   "id": "6a2f0631-eeef-4a29-9caa-a42134aab6bf",
   "metadata": {},
   "outputs": [],
   "source": [
    "Q2. How do you choose the optimal values of the regularization parameters for Elastic Net Regression?"
   ]
  },
  {
   "cell_type": "code",
   "execution_count": null,
   "id": "2d987c26-c08c-424e-aab5-558bc890fcaf",
   "metadata": {},
   "outputs": [],
   "source": [
    "Simply put, if you plug in 0 for alpha, the penalty function reduces to the L1 (ridge) term and \n",
    "if we set alpha to 1 we get the L2 (lasso) term. \n",
    "Therefore we can choose an alpha value between 0 and 1 to optimize the elastic net.19\n",
    "\n",
    "LASSO (Least Absolute Shrinkage and Selection Operator) is also called L1 regularization, \n",
    "and Ridge is also called L2 regularization. Elastic Net is the combination of LASSO and Ridge.\n",
    "All three are techniques commonly used in machine learning to correct overfitting.\n",
    "\n",
    "The elastic net method performs variable selection and regularization simultaneously. \n",
    "The elastic net technique is most appropriate where the dimensional data is greater than the number of samples used. \n",
    "Groupings and variables selection are the key roles of the elastic net technique.\n",
    "\n",
    "Elastic net is a hybrid of ridge regression and lasso regularization. Like lasso,\n",
    "elastic net can generate reduced models by generating zero-valued coefficients. Empirical studies have suggested that \n",
    "the elastic net technique can outperform lasso on data with highly correlated predictors."
   ]
  },
  {
   "cell_type": "code",
   "execution_count": null,
   "id": "5858fc88-a4ab-4763-b042-dc1a494e4069",
   "metadata": {},
   "outputs": [],
   "source": []
  },
  {
   "cell_type": "code",
   "execution_count": null,
   "id": "97229b3d-c37e-46dd-9f6e-3c8c8b33b876",
   "metadata": {},
   "outputs": [],
   "source": [
    "Q3. What are the advantages and disadvantages of Elastic Net Regression?"
   ]
  },
  {
   "cell_type": "code",
   "execution_count": null,
   "id": "e497e4ca-221e-454e-aadd-93363849cbff",
   "metadata": {},
   "outputs": [],
   "source": [
    "The benefit is that elastic net allows a balance of both penalties, \n",
    "which can result in better performance than a model with either one or the other penalty on some problems.\n",
    "Another hyperparameter is provided called “lambda” that controls the weighting of the sum of both \n",
    "penalties to the loss function.\n",
    "\n",
    "Elastic Net gives us two main benefits: the order of importance of each variable. Given a criterion (AIC, BIC,\n",
    "cross-validation R2), it can be used to automatically chose the best model very quickly\n",
    "\n",
    "Disadvantage of the classical elastic net is that the sequential cross-validation procedure\n",
    "used to determine the penalty parameters results in overshrinkage of the coefficients."
   ]
  },
  {
   "cell_type": "code",
   "execution_count": null,
   "id": "969212ba-2605-45db-ac1c-c47a3a39ad12",
   "metadata": {},
   "outputs": [],
   "source": []
  },
  {
   "cell_type": "code",
   "execution_count": null,
   "id": "9c05c647-6847-4dd9-8849-16d8f90bb9c7",
   "metadata": {},
   "outputs": [],
   "source": [
    "Q4. What are some common use cases for Elastic Net Regression?"
   ]
  },
  {
   "cell_type": "code",
   "execution_count": null,
   "id": "901b0be6-debe-44ef-bb7b-8a36459d3fd3",
   "metadata": {},
   "outputs": [],
   "source": [
    "It is like a stretchable fishing net that retains 'all the big fish'. Simulation studies and real data examples show that\n",
    "the elastic net often outperforms the lasso in terms of prediction accuracy.\n",
    "\n",
    "Elastic Net Regularization is a regularization technique that uses both L1 and L2 regularizations \n",
    "to produce most optimized output.\n",
    "This is one of the best regularization technique as it takes the best parts of other techniques.\n",
    "\n",
    "The elastic net method performs variable selection and regularization simultaneously. \n",
    "The elastic net technique is most appropriate where the dimensional data is greater than the number of samples used.\n",
    "Groupings and variables selection are the key roles of the elastic net technique"
   ]
  },
  {
   "cell_type": "code",
   "execution_count": null,
   "id": "a4a850f5-9468-4069-a6d8-82d9d1e2a184",
   "metadata": {},
   "outputs": [],
   "source": []
  },
  {
   "cell_type": "code",
   "execution_count": null,
   "id": "e805375f-c50f-4540-8608-5f3ead5c3992",
   "metadata": {},
   "outputs": [],
   "source": [
    "Q5. How do you interpret the coefficients in Elastic Net Regression?"
   ]
  },
  {
   "cell_type": "code",
   "execution_count": null,
   "id": "1edc9d31-48a1-4c00-b356-7298400db174",
   "metadata": {},
   "outputs": [],
   "source": [
    "Alpha, the constant that multiplies the L1/L2 term, is the tuning parameter that decides how much \n",
    "we want to penalize the model. The default value is 1.0. \n",
    "This is called the ElasticNet mixing parameter. Its range is 0 < = l1_ratio < = 1.\n",
    "\n",
    "P α ( β ) = ( 1 − α ) 2 ‖ β ‖ 2 2 + α ‖ β ‖ 1 = ∑ j = 1 p ( ( 1 − α ) 2 β j 2 + α | β j | ) .\n",
    "Elastic net is the same as lasso when α = 1. As α shrinks toward 0, elastic net approaches ridge regression."
   ]
  },
  {
   "cell_type": "code",
   "execution_count": null,
   "id": "1224285e-2733-480f-b39e-db3437cbde36",
   "metadata": {},
   "outputs": [],
   "source": []
  },
  {
   "cell_type": "code",
   "execution_count": null,
   "id": "c134a444-aaae-4657-a9f9-e8e879f4076a",
   "metadata": {},
   "outputs": [],
   "source": [
    "Q6. How do you handle missing values when using Elastic Net Regression?"
   ]
  },
  {
   "cell_type": "code",
   "execution_count": null,
   "id": "cbc46901-c1f2-4de5-9950-4d47f6506848",
   "metadata": {},
   "outputs": [],
   "source": [
    "Simple approaches include taking the average of the column and use that value, \n",
    "or if there is a heavy skew the median might be better. A better approach,\n",
    "you can perform regression or nearest neighbor imputation on the column to predict the missing values.\n",
    "Then continue on with your analysis/model.\n",
    "\n",
    "One way of handling missing values is the deletion of the rows or columns having null values. \n",
    "If any columns have more than half of the values as null then you can drop the entire column.\n",
    "In the same way, rows can also be dropped if having one or more columns values as null.\n",
    "\n",
    "I have a data frame which has lots of variables and I want to use elastic net in order to reduce the dimensionality"
   ]
  },
  {
   "cell_type": "code",
   "execution_count": null,
   "id": "6dece1b1-a5c6-46e2-ad86-3456bfbaa89f",
   "metadata": {},
   "outputs": [],
   "source": []
  },
  {
   "cell_type": "code",
   "execution_count": null,
   "id": "1bb2abeb-902c-40ec-8922-fd30367001ea",
   "metadata": {},
   "outputs": [],
   "source": [
    "Q7. How do you use Elastic Net Regression for feature selection?"
   ]
  },
  {
   "cell_type": "code",
   "execution_count": null,
   "id": "a5d8638c-08fb-47e9-817f-dcf006953c03",
   "metadata": {},
   "outputs": [],
   "source": [
    "LASSO and ELASTIC NET both perform feature selection and that's their whole purpose, \n",
    "so yes you can use them for this. You don't need to select top n features, since you can play with \n",
    "the arguments α and λ to get an arbitrary number of non-negative coefficients.\n",
    "\n",
    "I understand elastic net is 'embedded method' for feature selection.\n",
    "It basically use a combination of L1 and L2 penalty to shrink.\n",
    "\n",
    "First I'll transform the skewed numeric features by taking log(feature + 1) - this will make the features more normal\n",
    "Create Dummy variables for the categorical features\n",
    "Replace the numeric missing values (NaN's) with the mean of their respective columns"
   ]
  },
  {
   "cell_type": "code",
   "execution_count": null,
   "id": "772c941b-ff9c-4e0c-a9eb-4c599d65a35e",
   "metadata": {},
   "outputs": [],
   "source": []
  },
  {
   "cell_type": "code",
   "execution_count": null,
   "id": "55ae8a31-a88f-472a-acaa-b9d0827bc4b7",
   "metadata": {},
   "outputs": [],
   "source": [
    "Q8. How do you pickle and unpickle a trained Elastic Net Regression model in Python?"
   ]
  },
  {
   "cell_type": "code",
   "execution_count": null,
   "id": "cfbeff92-e9c9-4e0e-b972-e11333fb9f8f",
   "metadata": {},
   "outputs": [],
   "source": [
    "“Pickling” is the process whereby a Python object hierarchy is converted into a byte stream, \n",
    "and “unpickling” is the inverse operation, \n",
    "whereby a byte stream (from a binary file or bytes-like object) is converted back into an object hierarchy.\n",
    "\n",
    "You have to first open the pickled file using rb (read-binary) permission and \n",
    "pass the opened file to the load() method,  as shown below. \n",
    "The load() method unpickles the data and returns the actual object."
   ]
  },
  {
   "cell_type": "code",
   "execution_count": null,
   "id": "89f23517-b3e1-4375-9423-ce14bf22b4e6",
   "metadata": {},
   "outputs": [],
   "source": []
  },
  {
   "cell_type": "code",
   "execution_count": null,
   "id": "2a30319f-799f-4753-9278-a381eff57315",
   "metadata": {},
   "outputs": [],
   "source": [
    "Q9. What is the purpose of pickling a model in machine learning?"
   ]
  },
  {
   "cell_type": "code",
   "execution_count": null,
   "id": "0bb3b027-8348-4352-b99e-ebdaecf1e878",
   "metadata": {},
   "outputs": [],
   "source": [
    "The pickle module keeps track of the objects it has already serialized,\n",
    "so that later references to the same object won't be serialized again,\n",
    "thus allowing for faster execution time. Allows saving model in very little time.\n",
    "\n",
    "Pickle is a useful Python tool that allows you to save your ML models,\n",
    "to minimise lengthy re-training and allow you to share, commit, and re-load pre-trained machine learning models. \n",
    "Most data scientists working in ML will use Pickle or Joblib to save their ML model for future use.\n",
    "\n",
    "“Pickling” is the process whereby a Python object hierarchy is converted into a byte stream,\n",
    "and “unpickling” is the inverse operation, \n",
    "whereby a byte stream (from a binary file or bytes-like object) is converted back into an object hierarchy."
   ]
  }
 ],
 "metadata": {
  "kernelspec": {
   "display_name": "Python 3 (ipykernel)",
   "language": "python",
   "name": "python3"
  },
  "language_info": {
   "codemirror_mode": {
    "name": "ipython",
    "version": 3
   },
   "file_extension": ".py",
   "mimetype": "text/x-python",
   "name": "python",
   "nbconvert_exporter": "python",
   "pygments_lexer": "ipython3",
   "version": "3.10.6"
  }
 },
 "nbformat": 4,
 "nbformat_minor": 5
}
